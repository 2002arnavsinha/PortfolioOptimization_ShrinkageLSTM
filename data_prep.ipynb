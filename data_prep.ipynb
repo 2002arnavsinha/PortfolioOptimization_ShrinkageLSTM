{
 "cells": [
  {
   "cell_type": "code",
   "execution_count": 2,
   "metadata": {},
   "outputs": [],
   "source": [
    "import pandas as pd"
   ]
  },
  {
   "cell_type": "code",
   "execution_count": 40,
   "metadata": {},
   "outputs": [],
   "source": [
    "prices = pd.read_excel('PX_LAST_Static.xlsx', index_col=0)\n",
    "mcap = pd.read_excel('CUR_MKT_CAP_Static.xlsx', index_col=0)"
   ]
  },
  {
   "cell_type": "code",
   "execution_count": 6,
   "metadata": {},
   "outputs": [
    {
     "data": {
      "text/plain": [
       "((2536, 153), (2536, 153))"
      ]
     },
     "execution_count": 6,
     "metadata": {},
     "output_type": "execute_result"
    }
   ],
   "source": [
    "prices.shape, mcap.shape"
   ]
  },
  {
   "cell_type": "code",
   "execution_count": null,
   "metadata": {},
   "outputs": [],
   "source": [
    "top_indian_tickers_by_sector = {\n",
    "    \"Utilities\": [\"NTPC\", \"PWGR\"],\n",
    "    \"Technology\": [\"TCS\", \"WPRO\"],\n",
    "    \"Real Estate\": [\"DLFU\", \"GCPL\"],\n",
    "    \"Industrials\": [\"LT\", \"SIEM\"],\n",
    "    \"Healthcare\": [\"SUNP\", \"CIPLA\"],\n",
    "    \"Financial Services\": [\"HDFCB\", \"ICICIBC\"],\n",
    "    \"Energy\": [\"RELIANCE\", \"ONGC\"],\n",
    "    \"Consumer Defensive\": [\"HUVR\", \"ITC\"],\n",
    "    \"Communication Services\": [\"BHARTI\", \"IDEA\"],\n",
    "    \"Basic Materials\": [\"SAIL\", \"HNDL\"]\n",
    "}"
   ]
  },
  {
   "cell_type": "code",
   "execution_count": 52,
   "metadata": {},
   "outputs": [
    {
     "name": "stdout",
     "output_type": "stream",
     "text": [
      "20\n"
     ]
    }
   ],
   "source": [
    "required_tickers = []\n",
    "for sector in top_indian_tickers_by_sector:\n",
    "    tickers = top_indian_tickers_by_sector[sector]\n",
    "    for ticker in tickers:\n",
    "        if ticker + \" IS Equity\" in prices.columns:\n",
    "            required_tickers.append(ticker + \" IS Equity\")\n",
    "\n",
    "print(len(required_tickers))"
   ]
  },
  {
   "cell_type": "code",
   "execution_count": 53,
   "metadata": {},
   "outputs": [],
   "source": [
    "# get mcap and price data for required tickers\n",
    "mcap = mcap[required_tickers]\n",
    "prices = prices[required_tickers]"
   ]
  },
  {
   "cell_type": "code",
   "execution_count": 54,
   "metadata": {},
   "outputs": [
    {
     "data": {
      "text/plain": [
       "((2536, 20), (2536, 20))"
      ]
     },
     "execution_count": 54,
     "metadata": {},
     "output_type": "execute_result"
    }
   ],
   "source": [
    "mcap.shape, prices.shape"
   ]
  },
  {
   "cell_type": "code",
   "execution_count": 57,
   "metadata": {},
   "outputs": [],
   "source": [
    "# rename columns to remove \" IS Equity\" suffix\n",
    "mcap.columns = [col.replace(\" IS Equity\", \"\") for col in mcap.columns]\n",
    "prices.columns = [col.replace(\" IS Equity\", \"\") for col in prices.columns]"
   ]
  },
  {
   "cell_type": "code",
   "execution_count": 58,
   "metadata": {},
   "outputs": [
    {
     "data": {
      "text/plain": [
       "((2536, 20), (2536, 20))"
      ]
     },
     "execution_count": 58,
     "metadata": {},
     "output_type": "execute_result"
    }
   ],
   "source": [
    "mcap.shape, prices.shape"
   ]
  },
  {
   "cell_type": "code",
   "execution_count": 62,
   "metadata": {},
   "outputs": [],
   "source": [
    "# remove last row of mcap and prices\n",
    "mcap = mcap.iloc[:-1]\n",
    "prices = prices.iloc[:-1]"
   ]
  },
  {
   "cell_type": "code",
   "execution_count": 63,
   "metadata": {},
   "outputs": [],
   "source": [
    "# save the dataframes to csv files\n",
    "mcap.to_csv('mcap.csv')\n",
    "prices.to_csv('prices.csv')"
   ]
  },
  {
   "cell_type": "code",
   "execution_count": 2,
   "metadata": {},
   "outputs": [],
   "source": [
    "# check the saved files\n",
    "import pandas as pd\n",
    "mcap_check = pd.read_csv('mcap.csv', index_col=0)\n",
    "prices_check = pd.read_csv('prices.csv', index_col=0)"
   ]
  },
  {
   "cell_type": "code",
   "execution_count": 6,
   "metadata": {},
   "outputs": [
    {
     "data": {
      "text/html": [
       "<div>\n",
       "<style scoped>\n",
       "    .dataframe tbody tr th:only-of-type {\n",
       "        vertical-align: middle;\n",
       "    }\n",
       "\n",
       "    .dataframe tbody tr th {\n",
       "        vertical-align: top;\n",
       "    }\n",
       "\n",
       "    .dataframe thead th {\n",
       "        text-align: right;\n",
       "    }\n",
       "</style>\n",
       "<table border=\"1\" class=\"dataframe\">\n",
       "  <thead>\n",
       "    <tr style=\"text-align: right;\">\n",
       "      <th></th>\n",
       "      <th>NTPC</th>\n",
       "      <th>PWGR</th>\n",
       "      <th>TCS</th>\n",
       "      <th>WPRO</th>\n",
       "      <th>DLFU</th>\n",
       "      <th>GCPL</th>\n",
       "      <th>LT</th>\n",
       "      <th>SIEM</th>\n",
       "      <th>SUNP</th>\n",
       "      <th>CIPLA</th>\n",
       "      <th>HDFCB</th>\n",
       "      <th>ICICIBC</th>\n",
       "      <th>RELIANCE</th>\n",
       "      <th>ONGC</th>\n",
       "      <th>HUVR</th>\n",
       "      <th>ITC</th>\n",
       "      <th>BHARTI</th>\n",
       "      <th>IDEA</th>\n",
       "      <th>SAIL</th>\n",
       "      <th>HNDL</th>\n",
       "    </tr>\n",
       "    <tr>\n",
       "      <th>Date</th>\n",
       "      <th></th>\n",
       "      <th></th>\n",
       "      <th></th>\n",
       "      <th></th>\n",
       "      <th></th>\n",
       "      <th></th>\n",
       "      <th></th>\n",
       "      <th></th>\n",
       "      <th></th>\n",
       "      <th></th>\n",
       "      <th></th>\n",
       "      <th></th>\n",
       "      <th></th>\n",
       "      <th></th>\n",
       "      <th></th>\n",
       "      <th></th>\n",
       "      <th></th>\n",
       "      <th></th>\n",
       "      <th></th>\n",
       "      <th></th>\n",
       "    </tr>\n",
       "  </thead>\n",
       "  <tbody>\n",
       "    <tr>\n",
       "      <th>2015-01-01 00:00:00</th>\n",
       "      <td>118.71</td>\n",
       "      <td>77.12</td>\n",
       "      <td>1272.78</td>\n",
       "      <td>103.58</td>\n",
       "      <td>137.40</td>\n",
       "      <td>321.97</td>\n",
       "      <td>1001.97</td>\n",
       "      <td>906.70</td>\n",
       "      <td>822.20</td>\n",
       "      <td>628.40</td>\n",
       "      <td>476.03</td>\n",
       "      <td>320.27</td>\n",
       "      <td>200.33</td>\n",
       "      <td>229.37</td>\n",
       "      <td>758.45</td>\n",
       "      <td>231.55</td>\n",
       "      <td>327.07</td>\n",
       "      <td>96.25</td>\n",
       "      <td>82.75</td>\n",
       "      <td>158.45</td>\n",
       "    </tr>\n",
       "    <tr>\n",
       "      <th>2015-01-02 00:00:00</th>\n",
       "      <td>120.33</td>\n",
       "      <td>78.05</td>\n",
       "      <td>1289.72</td>\n",
       "      <td>104.49</td>\n",
       "      <td>139.20</td>\n",
       "      <td>323.37</td>\n",
       "      <td>1023.10</td>\n",
       "      <td>914.35</td>\n",
       "      <td>826.25</td>\n",
       "      <td>630.15</td>\n",
       "      <td>482.65</td>\n",
       "      <td>329.36</td>\n",
       "      <td>199.80</td>\n",
       "      <td>232.80</td>\n",
       "      <td>755.95</td>\n",
       "      <td>232.28</td>\n",
       "      <td>329.00</td>\n",
       "      <td>96.58</td>\n",
       "      <td>82.85</td>\n",
       "      <td>160.10</td>\n",
       "    </tr>\n",
       "    <tr>\n",
       "      <th>2015-01-05 00:00:00</th>\n",
       "      <td>120.00</td>\n",
       "      <td>78.13</td>\n",
       "      <td>1270.13</td>\n",
       "      <td>104.68</td>\n",
       "      <td>135.80</td>\n",
       "      <td>323.48</td>\n",
       "      <td>1037.33</td>\n",
       "      <td>918.65</td>\n",
       "      <td>826.75</td>\n",
       "      <td>633.00</td>\n",
       "      <td>478.58</td>\n",
       "      <td>330.05</td>\n",
       "      <td>197.61</td>\n",
       "      <td>235.43</td>\n",
       "      <td>760.30</td>\n",
       "      <td>233.19</td>\n",
       "      <td>321.70</td>\n",
       "      <td>92.74</td>\n",
       "      <td>82.70</td>\n",
       "      <td>156.85</td>\n",
       "    </tr>\n",
       "    <tr>\n",
       "      <th>2015-01-06 00:00:00</th>\n",
       "      <td>116.00</td>\n",
       "      <td>76.39</td>\n",
       "      <td>1223.30</td>\n",
       "      <td>102.23</td>\n",
       "      <td>133.65</td>\n",
       "      <td>317.33</td>\n",
       "      <td>1002.73</td>\n",
       "      <td>895.70</td>\n",
       "      <td>808.55</td>\n",
       "      <td>614.35</td>\n",
       "      <td>471.13</td>\n",
       "      <td>316.05</td>\n",
       "      <td>188.64</td>\n",
       "      <td>222.10</td>\n",
       "      <td>774.70</td>\n",
       "      <td>227.20</td>\n",
       "      <td>319.18</td>\n",
       "      <td>90.90</td>\n",
       "      <td>78.65</td>\n",
       "      <td>153.40</td>\n",
       "    </tr>\n",
       "    <tr>\n",
       "      <th>2015-01-07 00:00:00</th>\n",
       "      <td>118.79</td>\n",
       "      <td>77.48</td>\n",
       "      <td>1208.85</td>\n",
       "      <td>101.46</td>\n",
       "      <td>134.60</td>\n",
       "      <td>320.05</td>\n",
       "      <td>1000.33</td>\n",
       "      <td>899.20</td>\n",
       "      <td>809.80</td>\n",
       "      <td>611.95</td>\n",
       "      <td>472.50</td>\n",
       "      <td>307.50</td>\n",
       "      <td>192.75</td>\n",
       "      <td>225.37</td>\n",
       "      <td>801.90</td>\n",
       "      <td>222.98</td>\n",
       "      <td>319.95</td>\n",
       "      <td>90.45</td>\n",
       "      <td>77.80</td>\n",
       "      <td>148.90</td>\n",
       "    </tr>\n",
       "  </tbody>\n",
       "</table>\n",
       "</div>"
      ],
      "text/plain": [
       "                       NTPC   PWGR      TCS    WPRO    DLFU    GCPL       LT  \\\n",
       "Date                                                                           \n",
       "2015-01-01 00:00:00  118.71  77.12  1272.78  103.58  137.40  321.97  1001.97   \n",
       "2015-01-02 00:00:00  120.33  78.05  1289.72  104.49  139.20  323.37  1023.10   \n",
       "2015-01-05 00:00:00  120.00  78.13  1270.13  104.68  135.80  323.48  1037.33   \n",
       "2015-01-06 00:00:00  116.00  76.39  1223.30  102.23  133.65  317.33  1002.73   \n",
       "2015-01-07 00:00:00  118.79  77.48  1208.85  101.46  134.60  320.05  1000.33   \n",
       "\n",
       "                       SIEM    SUNP   CIPLA   HDFCB  ICICIBC  RELIANCE  \\\n",
       "Date                                                                     \n",
       "2015-01-01 00:00:00  906.70  822.20  628.40  476.03   320.27    200.33   \n",
       "2015-01-02 00:00:00  914.35  826.25  630.15  482.65   329.36    199.80   \n",
       "2015-01-05 00:00:00  918.65  826.75  633.00  478.58   330.05    197.61   \n",
       "2015-01-06 00:00:00  895.70  808.55  614.35  471.13   316.05    188.64   \n",
       "2015-01-07 00:00:00  899.20  809.80  611.95  472.50   307.50    192.75   \n",
       "\n",
       "                       ONGC    HUVR     ITC  BHARTI   IDEA   SAIL    HNDL  \n",
       "Date                                                                       \n",
       "2015-01-01 00:00:00  229.37  758.45  231.55  327.07  96.25  82.75  158.45  \n",
       "2015-01-02 00:00:00  232.80  755.95  232.28  329.00  96.58  82.85  160.10  \n",
       "2015-01-05 00:00:00  235.43  760.30  233.19  321.70  92.74  82.70  156.85  \n",
       "2015-01-06 00:00:00  222.10  774.70  227.20  319.18  90.90  78.65  153.40  \n",
       "2015-01-07 00:00:00  225.37  801.90  222.98  319.95  90.45  77.80  148.90  "
      ]
     },
     "execution_count": 6,
     "metadata": {},
     "output_type": "execute_result"
    }
   ],
   "source": [
    "prices_check.head()\n"
   ]
  },
  {
   "cell_type": "code",
   "execution_count": null,
   "metadata": {},
   "outputs": [
    {
     "data": {
      "text/html": [
       "<div>\n",
       "<style scoped>\n",
       "    .dataframe tbody tr th:only-of-type {\n",
       "        vertical-align: middle;\n",
       "    }\n",
       "\n",
       "    .dataframe tbody tr th {\n",
       "        vertical-align: top;\n",
       "    }\n",
       "\n",
       "    .dataframe thead th {\n",
       "        text-align: right;\n",
       "    }\n",
       "</style>\n",
       "<table border=\"1\" class=\"dataframe\">\n",
       "  <thead>\n",
       "    <tr style=\"text-align: right;\">\n",
       "      <th></th>\n",
       "      <th>NTPC</th>\n",
       "      <th>PWGR</th>\n",
       "      <th>TCS</th>\n",
       "      <th>WPRO</th>\n",
       "      <th>DLFU</th>\n",
       "      <th>GCPL</th>\n",
       "      <th>LT</th>\n",
       "      <th>SIEM</th>\n",
       "      <th>SUNP</th>\n",
       "      <th>CIPLA</th>\n",
       "      <th>HDFCB</th>\n",
       "      <th>ICICIBC</th>\n",
       "      <th>RELIANCE</th>\n",
       "      <th>ONGC</th>\n",
       "      <th>HUVR</th>\n",
       "      <th>ITC</th>\n",
       "      <th>BHARTI</th>\n",
       "      <th>IDEA</th>\n",
       "      <th>SAIL</th>\n",
       "      <th>HNDL</th>\n",
       "    </tr>\n",
       "    <tr>\n",
       "      <th>Date</th>\n",
       "      <th></th>\n",
       "      <th></th>\n",
       "      <th></th>\n",
       "      <th></th>\n",
       "      <th></th>\n",
       "      <th></th>\n",
       "      <th></th>\n",
       "      <th></th>\n",
       "      <th></th>\n",
       "      <th></th>\n",
       "      <th></th>\n",
       "      <th></th>\n",
       "      <th></th>\n",
       "      <th></th>\n",
       "      <th></th>\n",
       "      <th></th>\n",
       "      <th></th>\n",
       "      <th></th>\n",
       "      <th></th>\n",
       "      <th></th>\n",
       "    </tr>\n",
       "  </thead>\n",
       "  <tbody>\n",
       "    <tr>\n",
       "      <th>2015-01-01</th>\n",
       "      <td>118.71</td>\n",
       "      <td>77.12</td>\n",
       "      <td>1272.78</td>\n",
       "      <td>103.58</td>\n",
       "      <td>137.40</td>\n",
       "      <td>321.97</td>\n",
       "      <td>1001.97</td>\n",
       "      <td>906.70</td>\n",
       "      <td>822.20</td>\n",
       "      <td>628.40</td>\n",
       "      <td>476.03</td>\n",
       "      <td>320.27</td>\n",
       "      <td>200.33</td>\n",
       "      <td>229.37</td>\n",
       "      <td>758.45</td>\n",
       "      <td>231.55</td>\n",
       "      <td>327.07</td>\n",
       "      <td>96.25</td>\n",
       "      <td>82.75</td>\n",
       "      <td>158.45</td>\n",
       "    </tr>\n",
       "    <tr>\n",
       "      <th>2015-01-02</th>\n",
       "      <td>120.33</td>\n",
       "      <td>78.05</td>\n",
       "      <td>1289.72</td>\n",
       "      <td>104.49</td>\n",
       "      <td>139.20</td>\n",
       "      <td>323.37</td>\n",
       "      <td>1023.10</td>\n",
       "      <td>914.35</td>\n",
       "      <td>826.25</td>\n",
       "      <td>630.15</td>\n",
       "      <td>482.65</td>\n",
       "      <td>329.36</td>\n",
       "      <td>199.80</td>\n",
       "      <td>232.80</td>\n",
       "      <td>755.95</td>\n",
       "      <td>232.28</td>\n",
       "      <td>329.00</td>\n",
       "      <td>96.58</td>\n",
       "      <td>82.85</td>\n",
       "      <td>160.10</td>\n",
       "    </tr>\n",
       "    <tr>\n",
       "      <th>2015-01-05</th>\n",
       "      <td>120.00</td>\n",
       "      <td>78.13</td>\n",
       "      <td>1270.13</td>\n",
       "      <td>104.68</td>\n",
       "      <td>135.80</td>\n",
       "      <td>323.48</td>\n",
       "      <td>1037.33</td>\n",
       "      <td>918.65</td>\n",
       "      <td>826.75</td>\n",
       "      <td>633.00</td>\n",
       "      <td>478.58</td>\n",
       "      <td>330.05</td>\n",
       "      <td>197.61</td>\n",
       "      <td>235.43</td>\n",
       "      <td>760.30</td>\n",
       "      <td>233.19</td>\n",
       "      <td>321.70</td>\n",
       "      <td>92.74</td>\n",
       "      <td>82.70</td>\n",
       "      <td>156.85</td>\n",
       "    </tr>\n",
       "    <tr>\n",
       "      <th>2015-01-06</th>\n",
       "      <td>116.00</td>\n",
       "      <td>76.39</td>\n",
       "      <td>1223.30</td>\n",
       "      <td>102.23</td>\n",
       "      <td>133.65</td>\n",
       "      <td>317.33</td>\n",
       "      <td>1002.73</td>\n",
       "      <td>895.70</td>\n",
       "      <td>808.55</td>\n",
       "      <td>614.35</td>\n",
       "      <td>471.13</td>\n",
       "      <td>316.05</td>\n",
       "      <td>188.64</td>\n",
       "      <td>222.10</td>\n",
       "      <td>774.70</td>\n",
       "      <td>227.20</td>\n",
       "      <td>319.18</td>\n",
       "      <td>90.90</td>\n",
       "      <td>78.65</td>\n",
       "      <td>153.40</td>\n",
       "    </tr>\n",
       "    <tr>\n",
       "      <th>2015-01-07</th>\n",
       "      <td>118.79</td>\n",
       "      <td>77.48</td>\n",
       "      <td>1208.85</td>\n",
       "      <td>101.46</td>\n",
       "      <td>134.60</td>\n",
       "      <td>320.05</td>\n",
       "      <td>1000.33</td>\n",
       "      <td>899.20</td>\n",
       "      <td>809.80</td>\n",
       "      <td>611.95</td>\n",
       "      <td>472.50</td>\n",
       "      <td>307.50</td>\n",
       "      <td>192.75</td>\n",
       "      <td>225.37</td>\n",
       "      <td>801.90</td>\n",
       "      <td>222.98</td>\n",
       "      <td>319.95</td>\n",
       "      <td>90.45</td>\n",
       "      <td>77.80</td>\n",
       "      <td>148.90</td>\n",
       "    </tr>\n",
       "  </tbody>\n",
       "</table>\n",
       "</div>"
      ],
      "text/plain": [
       "              NTPC   PWGR      TCS    WPRO    DLFU    GCPL       LT    SIEM  \\\n",
       "Date                                                                          \n",
       "2015-01-01  118.71  77.12  1272.78  103.58  137.40  321.97  1001.97  906.70   \n",
       "2015-01-02  120.33  78.05  1289.72  104.49  139.20  323.37  1023.10  914.35   \n",
       "2015-01-05  120.00  78.13  1270.13  104.68  135.80  323.48  1037.33  918.65   \n",
       "2015-01-06  116.00  76.39  1223.30  102.23  133.65  317.33  1002.73  895.70   \n",
       "2015-01-07  118.79  77.48  1208.85  101.46  134.60  320.05  1000.33  899.20   \n",
       "\n",
       "              SUNP   CIPLA   HDFCB  ICICIBC  RELIANCE    ONGC    HUVR     ITC  \\\n",
       "Date                                                                            \n",
       "2015-01-01  822.20  628.40  476.03   320.27    200.33  229.37  758.45  231.55   \n",
       "2015-01-02  826.25  630.15  482.65   329.36    199.80  232.80  755.95  232.28   \n",
       "2015-01-05  826.75  633.00  478.58   330.05    197.61  235.43  760.30  233.19   \n",
       "2015-01-06  808.55  614.35  471.13   316.05    188.64  222.10  774.70  227.20   \n",
       "2015-01-07  809.80  611.95  472.50   307.50    192.75  225.37  801.90  222.98   \n",
       "\n",
       "            BHARTI   IDEA   SAIL    HNDL  \n",
       "Date                                      \n",
       "2015-01-01  327.07  96.25  82.75  158.45  \n",
       "2015-01-02  329.00  96.58  82.85  160.10  \n",
       "2015-01-05  321.70  92.74  82.70  156.85  \n",
       "2015-01-06  319.18  90.90  78.65  153.40  \n",
       "2015-01-07  319.95  90.45  77.80  148.90  "
      ]
     },
     "execution_count": 10,
     "metadata": {},
     "output_type": "execute_result"
    }
   ],
   "source": [
    "stocks = pd.read_csv('prices.csv', index_col=0)\n",
    "stocks.index = pd.to_datetime(stocks.index)\n",
    "stocks.head()"
   ]
  },
  {
   "cell_type": "code",
   "execution_count": 11,
   "metadata": {},
   "outputs": [
    {
     "data": {
      "text/plain": [
       "pandas.core.indexes.datetimes.DatetimeIndex"
      ]
     },
     "execution_count": 11,
     "metadata": {},
     "output_type": "execute_result"
    }
   ],
   "source": [
    "# type of index\n",
    "type(stocks.index)\n",
    "# convert the index to datetime\n",
    "# stocks.index = pd.to_datetime(stocks.index, format='%Y-%m-%d')"
   ]
  },
  {
   "cell_type": "code",
   "execution_count": 12,
   "metadata": {},
   "outputs": [
    {
     "data": {
      "text/plain": [
       "NTPC        0\n",
       "PWGR        0\n",
       "TCS         0\n",
       "WPRO        0\n",
       "DLFU        0\n",
       "GCPL        0\n",
       "LT          0\n",
       "SIEM        0\n",
       "SUNP        0\n",
       "CIPLA       0\n",
       "HDFCB       0\n",
       "ICICIBC     0\n",
       "RELIANCE    0\n",
       "ONGC        0\n",
       "HUVR        0\n",
       "ITC         0\n",
       "BHARTI      0\n",
       "IDEA        0\n",
       "SAIL        0\n",
       "HNDL        0\n",
       "dtype: int64"
      ]
     },
     "execution_count": 12,
     "metadata": {},
     "output_type": "execute_result"
    }
   ],
   "source": [
    "# chech na values in the dataframe\n",
    "stocks.isna().sum()"
   ]
  },
  {
   "cell_type": "code",
   "execution_count": null,
   "metadata": {},
   "outputs": [],
   "source": []
  }
 ],
 "metadata": {
  "kernelspec": {
   "display_name": "Python 3",
   "language": "python",
   "name": "python3"
  },
  "language_info": {
   "codemirror_mode": {
    "name": "ipython",
    "version": 3
   },
   "file_extension": ".py",
   "mimetype": "text/x-python",
   "name": "python",
   "nbconvert_exporter": "python",
   "pygments_lexer": "ipython3",
   "version": "3.11.7"
  }
 },
 "nbformat": 4,
 "nbformat_minor": 2
}
